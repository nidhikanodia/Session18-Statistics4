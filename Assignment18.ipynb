{
 "cells": [
  {
   "cell_type": "code",
   "execution_count": 29,
   "metadata": {},
   "outputs": [
    {
     "name": "stdout",
     "output_type": "stream",
     "text": [
      "The calculated value of test-statistic Χ2 is: 8.006066246262538\n",
      "The critical value of X2a with given degrees of freedom is: 7.814727903251179\n"
     ]
    }
   ],
   "source": [
    "#Question 1: \n",
    "#As per the question, we need to test - Is gender independent of education level?\n",
    "#In order to test the independence of two categorical variables, we can use Chi-square test of independence\n",
    "#The null hypothesis is given by H0: The gender and education level are independent\n",
    "#The alternate hypothesis is give by H1: The gender and education level are dependent\n",
    "#The significance level is give as .05\n",
    "#Chi-square test statistic is given by Χ2 = Σ [ (O - E)**2 / E ] where O represents the observed frequency and E represents the expected frequency under null hypothesis\n",
    "# E = (row total * column total)/sample size\n",
    "#We will compare the test-statistic Χ2 to the critical value of X2a with degree of freedom = (r-1)(c-1), and reject null hypothesis if X2 > X2a\n",
    "\n",
    "#Import the required libraries\n",
    "import pandas as pd\n",
    "from scipy.stats import chi2\n",
    "#Create a dataframe having the required columns\n",
    "df1 = pd.DataFrame(columns = [\"High School\", \"Bachelors\", \"Masters\", \"PhD\"])\n",
    "\n",
    "#Create rows in the dataframe\n",
    "df1.loc[\"Female\"] = [60, 54, 46, 41]\n",
    "df1.loc[\"Male\"] = [40, 44, 53, 57]\n",
    "\n",
    "#Define the sample size\n",
    "size = 395\n",
    "#Initialize the variable that would be having chi-square value as 0\n",
    "sum = 0\n",
    "#Iterate through all the rows of dataframe\n",
    "for i in range(df1.shape[0]):\n",
    "    #Get the row value\n",
    "    s1 = df1.iloc[i]\n",
    "    #Iterate through all the columns in given row\n",
    "    for j in range(s1.shape[0]):\n",
    "        #Get the observed value in that cell\n",
    "        O = s1.iloc[j]\n",
    "        #Calculate the expected value as (row total * column total)/sample size\n",
    "        E = (s1.sum()*df1[df1.columns[j]].sum())/size\n",
    "        #Calculate the cumulative sum\n",
    "        sum = sum + (O - E)**2/E\n",
    "#Print the calculated value of chi-square statistic\n",
    "print(\"The calculated value of test-statistic Χ2 is:\", sum)\n",
    "\n",
    "#Calculate the degrees of freedom as (rowcount - 1)(columncount - 1)\n",
    "df = (df1.shape[0] - 1)*(df1.shape[1] - 1)\n",
    "\n",
    "#Calculate the critical value of X2a with 3 degrees of freedom and 5% significance level\n",
    "X2a = chi2.ppf(0.95, df)\n",
    "\n",
    "print(\"The critical value of X2a with given degrees of freedom is:\",X2a)\n",
    "#Since the calculated value of chi-square statistic is more than the critical value of X2a with 3 degrees of freedom, null hypothesis is rejected.\n",
    "#Since null hypothesis is rejected, we can conclude that education level depends on gender at 5% significance level"
   ]
  },
  {
   "cell_type": "code",
   "execution_count": 51,
   "metadata": {},
   "outputs": [
    {
     "name": "stdout",
     "output_type": "stream",
     "text": [
      "----------------------ANOVA Table------------------\n",
      "   Source           SS  df           MS        F\n",
      "0  group  3022.933333   2  1511.466667  9.74721\n",
      "1  error  1860.800000  12   155.066667         \n",
      "\n",
      "The value of F-statistic is:9.75\n",
      "APA write up: F(2, 12) = 9.75, p < .05, η2 = 0.62\n"
     ]
    }
   ],
   "source": [
    "#Question 2: Perform a oneway analysis of variance using α=.05. Write up the results in APA format\n",
    "#Import the required libraries\n",
    "import pandas as pd\n",
    "\n",
    "#Create a series for each of the groups\n",
    "group1 = pd.Series([51, 45, 33, 45, 67])\n",
    "group2 = pd.Series([23, 43, 23, 43, 45])\n",
    "group3 = pd.Series([56, 76, 74, 87, 56])\n",
    "#Define the no. of samples\n",
    "k = 3\n",
    "#Define the sample size\n",
    "n = 15\n",
    "#Calculate the mean for each group\n",
    "mean1 = group1.mean()\n",
    "mean2 = group2.mean()\n",
    "mean3 = group3.mean()\n",
    "#Calculate sum of squared deviations from mean for each group\n",
    "ssd1 = sum((x - mean1)**2 for x in group1)\n",
    "ssd2 = sum((x - mean2)**2 for x in group2)\n",
    "ssd3 = sum((x - mean3)**2 for x in group3)\n",
    "#Calculate the variance for each group\n",
    "var1 = ssd1/(len(group1)-1)\n",
    "var2 = ssd2/(len(group2)-1)\n",
    "var3 = ssd3/(len(group3)-1)\n",
    "\n",
    "#Calculate the grand average\n",
    "grand_avg = (mean1 + mean2 + mean3)/3\n",
    "#Calculate the sum of squares between samples\n",
    "SSC = len(group1)*(mean1 - grand_avg)**2 + len(group2)*(mean2 - grand_avg)**2 + len(group3)*(mean3 - grand_avg)**2\n",
    "#Calculate the mean sum of squares between samples\n",
    "MSC = SSC/(k-1)\n",
    "# Calculate the sum of squares within samples\n",
    "SSE = ssd1 + ssd2 + ssd3\n",
    "#Calculate the mean sum of squares within samples\n",
    "MSE = SSE/(n - k)\n",
    "#Calculate the F-statistics\n",
    "F = MSC/MSE\n",
    "\n",
    "#Create a dataframe having the required columns and row\n",
    "df1 = pd.DataFrame(columns = [\"Source\", \"SS\", \"df\", \"MS\", \"F\"])\n",
    "df1.loc[\"0\"] = [\"group\", SSC, (k-1), MSC, F]\n",
    "df1.loc[\"1\"] = [\"error\", SSE, (n - k), MSE, \"\"]\n",
    "print(\"----------------------ANOVA Table------------------\\n\", df1)\n",
    "\n",
    "print(\"\\nThe value of F-statistic is:%.2f\" %F)\n",
    "#The table value of F at 5% level of significance for degree of freedom 2 and 12 is 3.88\n",
    "#The calculated value of F > table value\n",
    "#Hence H0 is rejected and there is significant difference in sample means\n",
    "#Calculate effect size\n",
    "η2 = SSC/(SSC + SSE)\n",
    "#APA write up\n",
    "print(\"APA write up: F(2, 12) = %.2f, p < .05, η2 = %.2f\" %(F, η2))"
   ]
  },
  {
   "cell_type": "code",
   "execution_count": 54,
   "metadata": {},
   "outputs": [
    {
     "name": "stdout",
     "output_type": "stream",
     "text": [
      "The F Test value is: 4.0\n"
     ]
    }
   ],
   "source": [
    "#Question 3:Calculate F Test for given 10, 20, 30, 40, 50 and 5,10,15, 20, 25\n",
    "#Import the required libraries\n",
    "import pandas as pd\n",
    "\n",
    "#Create a series for each of the groups\n",
    "group1 = pd.Series([10, 20, 30, 40, 50])\n",
    "group2 = pd.Series([5,10,15, 20, 25])\n",
    "\n",
    "#Define the no. of samples\n",
    "k = 2\n",
    "#Define the sample size\n",
    "n = 10\n",
    "#Calculate the mean for each group\n",
    "mean1 = group1.mean()\n",
    "mean2 = group2.mean()\n",
    "\n",
    "#Calculate sum of squared deviations from mean for each group\n",
    "ssd1 = sum((x - mean1)**2 for x in group1)\n",
    "ssd2 = sum((x - mean2)**2 for x in group2)\n",
    "\n",
    "#Calculate the variance for each group\n",
    "var1 = ssd1/(len(group1)-1)\n",
    "var2 = ssd2/(len(group2)-1)\n",
    "\n",
    "#Calculate F Test as Variance of group1/Variance of group2\n",
    "FTest = var1/var2\n",
    "\n",
    "print(\"The F Test value is:\", FTest)"
   ]
  },
  {
   "cell_type": "code",
   "execution_count": null,
   "metadata": {},
   "outputs": [],
   "source": []
  }
 ],
 "metadata": {
  "kernelspec": {
   "display_name": "Python 3",
   "language": "python",
   "name": "python3"
  },
  "language_info": {
   "codemirror_mode": {
    "name": "ipython",
    "version": 3
   },
   "file_extension": ".py",
   "mimetype": "text/x-python",
   "name": "python",
   "nbconvert_exporter": "python",
   "pygments_lexer": "ipython3",
   "version": "3.7.2"
  }
 },
 "nbformat": 4,
 "nbformat_minor": 2
}
